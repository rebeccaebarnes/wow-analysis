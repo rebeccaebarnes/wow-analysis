{
 "cells": [
  {
   "cell_type": "markdown",
   "metadata": {},
   "source": [
    "# Uldir Guild Awards Analysis\n",
    "\n",
    "<ul>\n",
    "<li><a href=\"#Taloc\">Taloc</a></li>\n",
    "<li><a href=\"#MOTHER\">MOTHER</a></li>\n",
    "<li><a href=\"#zekvoz\">Zek'voz</a>\n",
    "<li><a href=\"#vectis\">Vectis</a>\n",
    "<li><a href=\"#fetid\">Fetid</a>\n",
    "<li><a href=\"#zul\">Zul</a>\n",
    "<li><a href=\"#mythrax\">Mythrax</a>\n",
    "<li><a href=\"#ghuun\">G'Huun</a>\n",
    "<li><a href=\"#overall\">Overall</a>\n",
    "    <ul>\n",
    "        <li><a href=\"#pots\">Most Pots Used</a></li>\n",
    "        <li><a href=\"#healthstone\">Most Healthstones/Pots Used</a></li>\n",
    "        <li><a href=\"#rankings\">Rankings</a></li>\n",
    "        <li><a href=\"#prog-parse\">Highest Parse on Progression Kill</a></li>\n",
    "    </ul></li>\n",
    "</ul>"
   ]
  },
  {
   "cell_type": "code",
   "execution_count": null,
   "metadata": {},
   "outputs": [],
   "source": []
  }
 ],
 "metadata": {
  "kernelspec": {
   "display_name": "Python [conda env:dand]",
   "language": "python",
   "name": "conda-env-dand-py"
  },
  "language_info": {
   "codemirror_mode": {
    "name": "ipython",
    "version": 3
   },
   "file_extension": ".py",
   "mimetype": "text/x-python",
   "name": "python",
   "nbconvert_exporter": "python",
   "pygments_lexer": "ipython3",
   "version": "3.6.5"
  }
 },
 "nbformat": 4,
 "nbformat_minor": 2
}
