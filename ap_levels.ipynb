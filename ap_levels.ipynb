{
 "cells": [
  {
   "cell_type": "code",
   "execution_count": 1,
   "metadata": {},
   "outputs": [],
   "source": [
    "import pandas as pd\n",
    "import numpy as np\n",
    "import matplotlib.pyplot as plt\n",
    "import matplotlib.patches as mpatches\n",
    "import seaborn as sns\n",
    "%matplotlib inline"
   ]
  },
  {
   "cell_type": "code",
   "execution_count": 9,
   "metadata": {},
   "outputs": [
    {
     "data": {
      "text/html": [
       "<div>\n",
       "<style scoped>\n",
       "    .dataframe tbody tr th:only-of-type {\n",
       "        vertical-align: middle;\n",
       "    }\n",
       "\n",
       "    .dataframe tbody tr th {\n",
       "        vertical-align: top;\n",
       "    }\n",
       "\n",
       "    .dataframe thead th {\n",
       "        text-align: right;\n",
       "    }\n",
       "</style>\n",
       "<table border=\"1\" class=\"dataframe\">\n",
       "  <thead>\n",
       "    <tr style=\"text-align: right;\">\n",
       "      <th></th>\n",
       "      <th>Name</th>\n",
       "      <th>Level</th>\n",
       "    </tr>\n",
       "  </thead>\n",
       "  <tbody>\n",
       "    <tr>\n",
       "      <th>0</th>\n",
       "      <td>Petroll</td>\n",
       "      <td>44</td>\n",
       "    </tr>\n",
       "    <tr>\n",
       "      <th>1</th>\n",
       "      <td>Valmet</td>\n",
       "      <td>42</td>\n",
       "    </tr>\n",
       "    <tr>\n",
       "      <th>2</th>\n",
       "      <td>Metönymy</td>\n",
       "      <td>42</td>\n",
       "    </tr>\n",
       "    <tr>\n",
       "      <th>3</th>\n",
       "      <td>Earrl</td>\n",
       "      <td>41</td>\n",
       "    </tr>\n",
       "    <tr>\n",
       "      <th>4</th>\n",
       "      <td>Illestrae</td>\n",
       "      <td>41</td>\n",
       "    </tr>\n",
       "  </tbody>\n",
       "</table>\n",
       "</div>"
      ],
      "text/plain": [
       "        Name  Level\n",
       "0    Petroll     44\n",
       "1     Valmet     42\n",
       "2   Metönymy     42\n",
       "3      Earrl     41\n",
       "4  Illestrae     41"
      ]
     },
     "execution_count": 9,
     "metadata": {},
     "output_type": "execute_result"
    }
   ],
   "source": [
    "ap = pd.read_csv('ap_190219.csv')\n",
    "ap.head()"
   ]
  },
  {
   "cell_type": "code",
   "execution_count": 10,
   "metadata": {},
   "outputs": [
    {
     "data": {
      "text/plain": [
       "35"
      ]
     },
     "execution_count": 10,
     "metadata": {},
     "output_type": "execute_result"
    }
   ],
   "source": [
    "min_ap = ap[\"Level\"].min()\n",
    "min_ap"
   ]
  },
  {
   "cell_type": "code",
   "execution_count": 11,
   "metadata": {},
   "outputs": [
    {
     "data": {
      "text/plain": [
       "44"
      ]
     },
     "execution_count": 11,
     "metadata": {},
     "output_type": "execute_result"
    }
   ],
   "source": [
    "max_ap = ap[\"Level\"].max()\n",
    "max_ap"
   ]
  },
  {
   "cell_type": "code",
   "execution_count": 12,
   "metadata": {},
   "outputs": [
    {
     "data": {
      "text/plain": [
       "9"
      ]
     },
     "execution_count": 12,
     "metadata": {},
     "output_type": "execute_result"
    }
   ],
   "source": [
    "max_ap - min_ap"
   ]
  },
  {
   "cell_type": "code",
   "execution_count": 13,
   "metadata": {},
   "outputs": [
    {
     "data": {
      "text/plain": [
       "39.083333333333336"
      ]
     },
     "execution_count": 13,
     "metadata": {},
     "output_type": "execute_result"
    }
   ],
   "source": [
    "av_ap = ap[\"Level\"].mean()\n",
    "av_ap"
   ]
  },
  {
   "cell_type": "code",
   "execution_count": 14,
   "metadata": {},
   "outputs": [],
   "source": [
    "bins = np.arange(min_ap - 0.5, max_ap + 1.5, 1)"
   ]
  },
  {
   "cell_type": "code",
   "execution_count": 32,
   "metadata": {},
   "outputs": [
    {
     "data": {
      "image/png": "[encoded data removed]",
      "text/plain": [
       "<Figure size 432x288 with 1 Axes>"
      ]
     },
     "metadata": {},
     "output_type": "display_data"
    }
   ],
   "source": [
    "sns.set()\n",
    "sns.set_style('white')\n",
    "plt.hist(ap[\"Level\"], edgecolor=\"white\", bins=bins, color=\"#333333\")\n",
    "plt.xticks(range(min_ap, max_ap+1))\n",
    "ax = plt.gca()\n",
    "ax.add_patch(mpatches.Rectangle((32.5, 0), 5, 7, alpha=0.3, color=\"#ff9900\"))\n",
    "ax.add_patch(mpatches.Rectangle((37.5, 0), 5, 7, alpha=0.3, color=\"#009933\"))\n",
    "ax.add_patch(mpatches.Rectangle((42.5, 0), 5, 7, alpha=0.3, color=\"#6600ff\"))\n",
    "plt.text(35.5, 4.85, \"Second \\nOuter \\nRing \\nUnlocked\", horizontalalignment=\"center\")\n",
    "plt.text(40.25, 5.5, \"Middle \\nRing Unlocked\", horizontalalignment=\"center\")\n",
    "plt.text(44, 5.2, \"Defensive \\nRing \\nUnlocked\", horizontalalignment=\"center\")\n",
    "plt.text(34, -1.75, \"Average is neck level is {}\".format(round(av_ap, 1)))\n",
    "plt.text(34, -2.25, \"All Defensive Rings unlocked at 43\")\n",
    "plt.text(34, -2.75, \"All ilvl Increases unlocked 48\")\n",
    "plt.xlabel(\"Neck AP Level\")\n",
    "plt.ylabel(\"Number of People\")\n",
    "plt.title(\"Guild Neck Level as of Feb 19\", fontsize=14);\n",
    "sns.despine()\n",
    "plt.savefig('img/ap_level_190219.png')"
   ]
  },
  {
   "cell_type": "code",
   "execution_count": null,
   "metadata": {},
   "outputs": [],
   "source": []
  }
 ],
 "metadata": {
  "kernelspec": {
   "display_name": "Python [conda env:dand]",
   "language": "python",
   "name": "conda-env-dand-py"
  },
  "language_info": {
   "codemirror_mode": {
    "name": "ipython",
    "version": 3
   },
   "file_extension": ".py",
   "mimetype": "text/x-python",
   "name": "python",
   "nbconvert_exporter": "python",
   "pygments_lexer": "ipython3",
   "version": "3.6.5"
  }
 },
 "nbformat": 4,
 "nbformat_minor": 2
}
