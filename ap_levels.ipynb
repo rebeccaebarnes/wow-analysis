{
 "cells": [
  {
   "cell_type": "code",
   "execution_count": 20,
   "metadata": {},
   "outputs": [],
   "source": [
    "import pandas as pd\n",
    "import numpy as np\n",
    "import matplotlib.pyplot as plt\n",
    "import matplotlib.patches as mpatches\n",
    "import seaborn as sns\n",
    "%matplotlib inline"
   ]
  },
  {
   "cell_type": "code",
<<<<<<< HEAD
   "execution_count": 2,
||||||| merged common ancestors
   "execution_count": 3,
=======
   "execution_count": 7,
>>>>>>> a325a68064617789f0e33723bb98fc7fa464b1fc
   "metadata": {
    "scrolled": false
   },
   "outputs": [
    {
     "data": {
      "text/html": [
       "<div>\n",
       "<style scoped>\n",
       "    .dataframe tbody tr th:only-of-type {\n",
       "        vertical-align: middle;\n",
       "    }\n",
       "\n",
       "    .dataframe tbody tr th {\n",
       "        vertical-align: top;\n",
       "    }\n",
       "\n",
       "    .dataframe thead th {\n",
       "        text-align: right;\n",
       "    }\n",
       "</style>\n",
       "<table border=\"1\" class=\"dataframe\">\n",
       "  <thead>\n",
       "    <tr style=\"text-align: right;\">\n",
       "      <th></th>\n",
       "      <th>Name</th>\n",
       "      <th>Level</th>\n",
       "    </tr>\n",
       "  </thead>\n",
       "  <tbody>\n",
       "    <tr>\n",
       "      <th>0</th>\n",
       "      <td>Petroll</td>\n",
       "      <td>42</td>\n",
       "    </tr>\n",
       "    <tr>\n",
       "      <th>1</th>\n",
       "      <td>Metönymy</td>\n",
       "      <td>40</td>\n",
       "    </tr>\n",
       "    <tr>\n",
       "      <th>2</th>\n",
       "      <td>Earrl</td>\n",
       "      <td>39</td>\n",
       "    </tr>\n",
       "    <tr>\n",
       "      <th>3</th>\n",
       "      <td>Psychodruid</td>\n",
       "      <td>37</td>\n",
       "    </tr>\n",
       "    <tr>\n",
       "      <th>4</th>\n",
       "      <td>Illestrae</td>\n",
       "      <td>37</td>\n",
       "    </tr>\n",
       "  </tbody>\n",
       "</table>\n",
       "</div>"
      ],
      "text/plain": [
       "          Name  Level\n",
       "0      Petroll     42\n",
       "1     Metönymy     40\n",
       "2        Earrl     39\n",
       "3  Psychodruid     37\n",
       "4    Illestrae     37"
      ]
     },
<<<<<<< HEAD
     "execution_count": 2,
||||||| merged common ancestors
     "execution_count": 3,
=======
     "execution_count": 7,
>>>>>>> a325a68064617789f0e33723bb98fc7fa464b1fc
     "metadata": {},
     "output_type": "execute_result"
    }
   ],
   "source": [
    "ap = pd.read_csv('ap_190127.csv')\n",
    "ap.head()"
   ]
  },
  {
   "cell_type": "code",
<<<<<<< HEAD
   "execution_count": 3,
   "metadata": {},
   "outputs": [],
   "source": [
    "new_week = [22, 22, 22, 22, 22, 21, 21, 21, 21, 21, 21, 21, 21, 21, 20, 20, 20, 20, 19, 19, 19, 19, 18, 16]"
   ]
  },
  {
   "cell_type": "code",
   "execution_count": 4,
||||||| merged common ancestors
   "execution_count": 4,
=======
   "execution_count": 8,
>>>>>>> a325a68064617789f0e33723bb98fc7fa464b1fc
   "metadata": {},
   "outputs": [
    {
     "data": {
      "text/html": [
       "<div>\n",
       "<style scoped>\n",
       "    .dataframe tbody tr th:only-of-type {\n",
       "        vertical-align: middle;\n",
       "    }\n",
       "\n",
       "    .dataframe tbody tr th {\n",
       "        vertical-align: top;\n",
       "    }\n",
       "\n",
       "    .dataframe thead th {\n",
       "        text-align: right;\n",
       "    }\n",
       "</style>\n",
       "<table border=\"1\" class=\"dataframe\">\n",
       "  <thead>\n",
       "    <tr style=\"text-align: right;\">\n",
       "      <th></th>\n",
       "      <th>Aug-28-18</th>\n",
       "      <th>Sep-05-18</th>\n",
       "      <th>Sep-10-18</th>\n",
       "    </tr>\n",
       "  </thead>\n",
       "  <tbody>\n",
       "    <tr>\n",
       "      <th>0</th>\n",
       "      <td>20</td>\n",
       "      <td>21</td>\n",
       "      <td>22</td>\n",
       "    </tr>\n",
       "    <tr>\n",
       "      <th>1</th>\n",
       "      <td>20</td>\n",
       "      <td>21</td>\n",
       "      <td>22</td>\n",
       "    </tr>\n",
       "    <tr>\n",
       "      <th>2</th>\n",
       "      <td>19</td>\n",
       "      <td>21</td>\n",
       "      <td>22</td>\n",
       "    </tr>\n",
       "    <tr>\n",
       "      <th>3</th>\n",
       "      <td>19</td>\n",
       "      <td>21</td>\n",
       "      <td>22</td>\n",
       "    </tr>\n",
       "    <tr>\n",
       "      <th>4</th>\n",
       "      <td>19</td>\n",
       "      <td>21</td>\n",
       "      <td>22</td>\n",
       "    </tr>\n",
       "  </tbody>\n",
       "</table>\n",
       "</div>"
      ],
      "text/plain": [
<<<<<<< HEAD
       "   Aug-28-18  Sep-05-18  Sep-10-18\n",
       "0         20         21         22\n",
       "1         20         21         22\n",
       "2         19         21         22\n",
       "3         19         21         22\n",
       "4         19         21         22"
||||||| merged common ancestors
       "15"
=======
       "31"
>>>>>>> a325a68064617789f0e33723bb98fc7fa464b1fc
      ]
     },
     "execution_count": 8,
     "metadata": {},
     "output_type": "execute_result"
    }
   ],
   "source": [
<<<<<<< HEAD
    "ap['Sep-10-18'] = new_week\n",
    "ap.head()"
||||||| merged common ancestors
    "min_ap = ap['Sep-05-18'].min()\n",
    "min_ap"
=======
    "min_ap = ap[\"Level\"].min()\n",
    "min_ap"
>>>>>>> a325a68064617789f0e33723bb98fc7fa464b1fc
   ]
  },
  {
   "cell_type": "code",
   "execution_count": 9,
   "metadata": {},
   "outputs": [
    {
     "data": {
      "text/plain": [
<<<<<<< HEAD
       "16"
||||||| merged common ancestors
       "21"
=======
       "42"
>>>>>>> a325a68064617789f0e33723bb98fc7fa464b1fc
      ]
     },
     "execution_count": 9,
     "metadata": {},
     "output_type": "execute_result"
    }
   ],
   "source": [
<<<<<<< HEAD
    "min_ap = ap['Sep-10-18'].min()\n",
    "min_ap"
||||||| merged common ancestors
    "max_ap = ap['Sep-05-18'].max()\n",
    "max_ap"
=======
    "max_ap = ap[\"Level\"].max()\n",
    "max_ap"
>>>>>>> a325a68064617789f0e33723bb98fc7fa464b1fc
   ]
  },
  {
   "cell_type": "code",
   "execution_count": 10,
   "metadata": {},
   "outputs": [
    {
     "data": {
      "text/plain": [
<<<<<<< HEAD
       "22"
||||||| merged common ancestors
       "6"
=======
       "11"
>>>>>>> a325a68064617789f0e33723bb98fc7fa464b1fc
      ]
     },
     "execution_count": 10,
     "metadata": {},
     "output_type": "execute_result"
    }
   ],
   "source": [
    "max_ap = ap['Sep-10-18'].max()\n",
    "max_ap"
   ]
  },
  {
   "cell_type": "code",
   "execution_count": 11,
   "metadata": {},
   "outputs": [
    {
     "data": {
      "text/plain": [
<<<<<<< HEAD
       "6"
||||||| merged common ancestors
       "19.458333333333332"
=======
       "35.31818181818182"
>>>>>>> a325a68064617789f0e33723bb98fc7fa464b1fc
      ]
     },
     "execution_count": 11,
     "metadata": {},
     "output_type": "execute_result"
    }
   ],
   "source": [
<<<<<<< HEAD
    "max_ap - min_ap"
   ]
  },
  {
   "cell_type": "code",
   "execution_count": 8,
   "metadata": {},
   "outputs": [
    {
     "data": {
      "text/plain": [
       "20.375"
      ]
     },
     "execution_count": 8,
     "metadata": {},
     "output_type": "execute_result"
    }
   ],
   "source": [
    "av_ap = ap['Sep-10-18'].mean()\n",
||||||| merged common ancestors
    "av_ap = ap['Sep-05-18'].mean()\n",
=======
    "av_ap = ap[\"Level\"].mean()\n",
>>>>>>> a325a68064617789f0e33723bb98fc7fa464b1fc
    "av_ap"
   ]
  },
  {
   "cell_type": "code",
<<<<<<< HEAD
   "execution_count": 18,
   "metadata": {},
   "outputs": [],
   "source": [
    "bins = np.arange(min_ap - 0.5, max_ap + 1.5, 1)"
   ]
  },
  {
   "cell_type": "code",
   "execution_count": 28,
||||||| merged common ancestors
   "execution_count": 9,
=======
   "execution_count": 12,
   "metadata": {},
   "outputs": [],
   "source": [
    "bins = np.arange(min_ap - 0.5, max_ap + 1.5, 1)"
   ]
  },
  {
   "cell_type": "code",
   "execution_count": 68,
>>>>>>> a325a68064617789f0e33723bb98fc7fa464b1fc
   "metadata": {},
   "outputs": [
    {
     "data": {
<<<<<<< HEAD
      "image/png": "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\n",
||||||| merged common ancestors
      "image/png": "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\n",
=======
      "image/png": "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\n",
>>>>>>> a325a68064617789f0e33723bb98fc7fa464b1fc
      "text/plain": [
       "<Figure size 432x288 with 1 Axes>"
      ]
     },
     "metadata": {},
     "output_type": "display_data"
    }
   ],
   "source": [
    "sns.set()\n",
    "sns.set_style('white')\n",
<<<<<<< HEAD
    "plt.hist(ap['Sep-10-18'], bins = bins, rwidth=0.975, edgecolor=\"white\", linewidth=1)\n",
    "plt.title('Guild AP Spread (Sep 10 \\'18)');\n",
||||||| merged common ancestors
    "plt.hist(ap['Sep-05-18'], edgecolor=\"white\");\n",
=======
    "plt.hist(ap[\"Level\"], edgecolor=\"white\", bins=bins, color=\"#333333\")\n",
    "plt.xticks(range(min_ap, max_ap+1))\n",
    "ax = plt.gca()\n",
    "ax.add_patch(mpatches.Rectangle((30.5, 0), 2, 7, alpha=0.3, color=\"#cc3300\"))\n",
    "ax.add_patch(mpatches.Rectangle((32.5, 0), 5, 7, alpha=0.3, color=\"#ff9900\"))\n",
    "ax.add_patch(mpatches.Rectangle((37.5, 0), 5, 7, alpha=0.3, color=\"#009933\"))\n",
    "ax.add_patch(mpatches.Arrow(41, 3, 1, -1.5, linewidth=0))\n",
    "plt.text(31.5, 5.5, \"First\\nOuter\\nRing\", horizontalalignment=\"center\")\n",
    "plt.text(36.1, 6, \"Second Outer \\nRing\", horizontalalignment=\"center\")\n",
    "plt.text(40.25, 6, \"Middle \\nRing\", horizontalalignment=\"center\")\n",
    "plt.text(41, 3.5, \"We can't all \\nbe like Petrol\", horizontalalignment=\"center\")\n",
    "plt.text(31, -1.5, \"Average is neck level is 35\")\n",
    "plt.text(31, -2, \"All Defensive Rings unlocked at 43\")\n",
    "plt.text(31, -2.5, \"All ilvl Increases unlocked 48\")\n",
    "plt.title(\"Guild Neck Level as of Jan 27\", fontsize=14);\n",
>>>>>>> a325a68064617789f0e33723bb98fc7fa464b1fc
    "sns.despine()\n",
<<<<<<< HEAD
    "plt.savefig('ap_level_180910.png')"
||||||| merged common ancestors
    "plt.savefig('ap_level_180905.png')"
=======
    "plt.savefig('img/ap_level_190127.png')"
>>>>>>> a325a68064617789f0e33723bb98fc7fa464b1fc
   ]
  },
  {
   "cell_type": "code",
   "execution_count": null,
   "metadata": {},
   "outputs": [],
   "source": []
  }
 ],
 "metadata": {
  "kernelspec": {
   "display_name": "Python [conda env:dand]",
   "language": "python",
   "name": "conda-env-dand-py"
  },
  "language_info": {
   "codemirror_mode": {
    "name": "ipython",
    "version": 3
   },
   "file_extension": ".py",
   "mimetype": "text/x-python",
   "name": "python",
   "nbconvert_exporter": "python",
   "pygments_lexer": "ipython3",
   "version": "3.6.6"
  }
 },
 "nbformat": 4,
 "nbformat_minor": 2
}
