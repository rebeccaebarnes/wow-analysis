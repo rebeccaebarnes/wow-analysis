{
 "cells": [
  {
   "cell_type": "code",
   "execution_count": 2,
   "metadata": {},
   "outputs": [],
   "source": [
    "import pandas as pd\n",
    "import numpy as np\n",
    "import matplotlib.pyplot as plt\n",
    "import matplotlib.patches as mpatches\n",
    "import seaborn as sns\n",
    "%matplotlib inline"
   ]
  },
  {
   "cell_type": "code",
   "execution_count": 3,
   "metadata": {},
   "outputs": [
    {
     "data": {
      "text/html": [
       "<div>\n",
       "<style scoped>\n",
       "    .dataframe tbody tr th:only-of-type {\n",
       "        vertical-align: middle;\n",
       "    }\n",
       "\n",
       "    .dataframe tbody tr th {\n",
       "        vertical-align: top;\n",
       "    }\n",
       "\n",
       "    .dataframe thead th {\n",
       "        text-align: right;\n",
       "    }\n",
       "</style>\n",
       "<table border=\"1\" class=\"dataframe\">\n",
       "  <thead>\n",
       "    <tr style=\"text-align: right;\">\n",
       "      <th></th>\n",
       "      <th>Name</th>\n",
       "      <th>Level</th>\n",
       "    </tr>\n",
       "  </thead>\n",
       "  <tbody>\n",
       "    <tr>\n",
       "      <th>0</th>\n",
       "      <td>Petroll</td>\n",
       "      <td>47.17</td>\n",
       "    </tr>\n",
       "    <tr>\n",
       "      <th>1</th>\n",
       "      <td>Metönymy</td>\n",
       "      <td>45.44</td>\n",
       "    </tr>\n",
       "    <tr>\n",
       "      <th>2</th>\n",
       "      <td>Valmet</td>\n",
       "      <td>45.25</td>\n",
       "    </tr>\n",
       "    <tr>\n",
       "      <th>3</th>\n",
       "      <td>Illestrae</td>\n",
       "      <td>44.47</td>\n",
       "    </tr>\n",
       "    <tr>\n",
       "      <th>4</th>\n",
       "      <td>Ayriea</td>\n",
       "      <td>44.38</td>\n",
       "    </tr>\n",
       "  </tbody>\n",
       "</table>\n",
       "</div>"
      ],
      "text/plain": [
       "        Name  Level\n",
       "0    Petroll  47.17\n",
       "1   Metönymy  45.44\n",
       "2     Valmet  45.25\n",
       "3  Illestrae  44.47\n",
       "4     Ayriea  44.38"
      ]
     },
     "execution_count": 3,
     "metadata": {},
     "output_type": "execute_result"
    }
   ],
   "source": [
    "ap = pd.read_csv('ap_190311.csv')\n",
    "ap.head()"
   ]
  },
  {
   "cell_type": "code",
   "execution_count": 4,
   "metadata": {},
   "outputs": [
    {
     "data": {
      "text/plain": [
       "38.21"
      ]
     },
     "execution_count": 4,
     "metadata": {},
     "output_type": "execute_result"
    }
   ],
   "source": [
    "min_ap = ap[\"Level\"].min()\n",
    "min_ap"
   ]
  },
  {
   "cell_type": "code",
   "execution_count": 5,
   "metadata": {},
   "outputs": [
    {
     "data": {
      "text/plain": [
       "47.17"
      ]
     },
     "execution_count": 5,
     "metadata": {},
     "output_type": "execute_result"
    }
   ],
   "source": [
    "max_ap = ap[\"Level\"].max()\n",
    "max_ap"
   ]
  },
  {
   "cell_type": "code",
   "execution_count": 6,
   "metadata": {},
   "outputs": [
    {
     "data": {
      "text/plain": [
       "8.96"
      ]
     },
     "execution_count": 6,
     "metadata": {},
     "output_type": "execute_result"
    }
   ],
   "source": [
    "max_ap - min_ap"
   ]
  },
  {
   "cell_type": "code",
   "execution_count": 7,
   "metadata": {},
   "outputs": [
    {
     "data": {
      "text/plain": [
       "42.2675"
      ]
     },
     "execution_count": 7,
     "metadata": {},
     "output_type": "execute_result"
    }
   ],
   "source": [
    "av_ap = ap[\"Level\"].mean()\n",
    "av_ap"
   ]
  },
  {
   "cell_type": "code",
   "execution_count": 13,
   "metadata": {},
   "outputs": [],
   "source": [
    "bins = np.arange(int(min_ap) - 0.5, int(max_ap) + 1.5, 1)"
   ]
  },
  {
   "cell_type": "code",
   "execution_count": 17,
   "metadata": {},
   "outputs": [
    {
     "data": {
      "image/png": "[encoded data removed]",
      "text/plain": [
       "<Figure size 432x288 with 1 Axes>"
      ]
     },
     "metadata": {},
     "output_type": "display_data"
    }
   ],
   "source": [
    "sns.set()\n",
    "sns.set_style('white')\n",
    "plt.hist(ap[\"Level\"], edgecolor=\"white\", bins=bins, color=\"#333333\")\n",
    "plt.xticks(range(int(min_ap), int(max_ap+1)))\n",
    "ax = plt.gca()\n",
    "ax.add_patch(mpatches.Rectangle((32.5, 0), 5, 7, alpha=0.3, color=\"#ff9900\"))\n",
    "ax.add_patch(mpatches.Rectangle((37.5, 0), 5, 7, alpha=0.3, color=\"#009933\"))\n",
    "ax.add_patch(mpatches.Rectangle((42.5, 0), 5, 7, alpha=0.3, color=\"#6600ff\"))\n",
    "#plt.text(35.5, 4.85, \"Second \\nOuter \\nRing \\nUnlocked\", horizontalalignment=\"center\")\n",
    "plt.text(39.25, 4.5, \"Middle \\nRing Unlocked\", horizontalalignment=\"center\")\n",
    "plt.text(46, 4.2, \"Defensive \\nRing \\nUnlocked\", horizontalalignment=\"center\")\n",
    "plt.text(int(min_ap), -1.75, \"Average is neck level is {}\".format(round(av_ap, 1)))\n",
    "plt.text(int(min_ap), -2.25, \"All Defensive Rings unlocked at 43\")\n",
    "plt.text(int(min_ap), -2.75, \"All ilvl Increases unlocked 48\")\n",
    "plt.xlabel(\"Neck AP Level\")\n",
    "plt.ylabel(\"Number of People\")\n",
    "plt.title(\"Guild Neck Level as of Mar 11\", fontsize=14);\n",
    "sns.despine()\n",
    "plt.savefig('img/ap_level_190311.png')"
   ]
  },
  {
   "cell_type": "code",
   "execution_count": null,
   "metadata": {},
   "outputs": [],
   "source": []
  }
 ],
 "metadata": {
  "kernelspec": {
   "display_name": "Python [conda env:dand]",
   "language": "python",
   "name": "conda-env-dand-py"
  },
  "language_info": {
   "codemirror_mode": {
    "name": "ipython",
    "version": 3
   },
   "file_extension": ".py",
   "mimetype": "text/x-python",
   "name": "python",
   "nbconvert_exporter": "python",
   "pygments_lexer": "ipython3",
   "version": "3.6.6"
  }
 },
 "nbformat": 4,
 "nbformat_minor": 2
}
